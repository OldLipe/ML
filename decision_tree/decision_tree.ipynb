{
 "cells": [
  {
   "cell_type": "markdown",
   "metadata": {},
   "source": [
    "# Árvore de decisão"
   ]
  },
  {
   "cell_type": "markdown",
   "metadata": {},
   "source": [
    "### Importando as bibliotecas necessárias"
   ]
  },
  {
   "cell_type": "code",
   "execution_count": 1199,
   "metadata": {
    "collapsed": true
   },
   "outputs": [],
   "source": [
    "import pandas as pd # criação e manipulação de dataframe\n",
    "import numpy as np # métodos estatísticos\n",
    "import matplotlib.pyplot as plt # Visualização de dados\n",
    "import seaborn as sns # Visualização - mais bonitinho \n",
    "%matplotlib inline\n",
    "from sklearn.model_selection import train_test_split # Dividir o conjunto de treino e teste\n",
    "from sklearn.tree import DecisionTreeClassifier # Arvore de decisão\n",
    "from sklearn.metrics import classification_report,confusion_matrix,f1_score # classificação, matriz de confusao e f1_score"
   ]
  },
  {
   "cell_type": "markdown",
   "metadata": {},
   "source": [
    "### Leitura do conjunto de dados"
   ]
  },
  {
   "cell_type": "code",
   "execution_count": 1200,
   "metadata": {
    "collapsed": false
   },
   "outputs": [],
   "source": [
    "country_df = pd.read_csv('../countries of the world.csv', thousands=',')"
   ]
  },
  {
   "cell_type": "markdown",
   "metadata": {},
   "source": [
    "\n",
    "## Definição de passos a seguir\n",
    "1. Visualização breve do conjunto de dados\n",
    "2. Manipulação e limpeza dos dados\n",
    "3. Preparação dos dados para a classificação\n",
    "4. Classificação utilizando árvores de decisão"
   ]
  },
  {
   "cell_type": "markdown",
   "metadata": {},
   "source": [
    "### 1. Visualização do conjunto de dados"
   ]
  },
  {
   "cell_type": "code",
   "execution_count": 1201,
   "metadata": {
    "collapsed": false
   },
   "outputs": [
    {
     "data": {
      "text/html": [
       "<div>\n",
       "<style scoped>\n",
       "    .dataframe tbody tr th:only-of-type {\n",
       "        vertical-align: middle;\n",
       "    }\n",
       "\n",
       "    .dataframe tbody tr th {\n",
       "        vertical-align: top;\n",
       "    }\n",
       "\n",
       "    .dataframe thead th {\n",
       "        text-align: right;\n",
       "    }\n",
       "</style>\n",
       "<table border=\"1\" class=\"dataframe\">\n",
       "  <thead>\n",
       "    <tr style=\"text-align: right;\">\n",
       "      <th></th>\n",
       "      <th>Country</th>\n",
       "      <th>Region</th>\n",
       "      <th>Population</th>\n",
       "      <th>Area (sq. mi.)</th>\n",
       "      <th>Pop. Density (per sq. mi.)</th>\n",
       "      <th>Coastline (coast/area ratio)</th>\n",
       "      <th>Net migration</th>\n",
       "      <th>Infant mortality (per 1000 births)</th>\n",
       "      <th>GDP ($ per capita)</th>\n",
       "      <th>Literacy (%)</th>\n",
       "      <th>Phones (per 1000)</th>\n",
       "      <th>Arable (%)</th>\n",
       "      <th>Crops (%)</th>\n",
       "      <th>Other (%)</th>\n",
       "      <th>Climate</th>\n",
       "      <th>Birthrate</th>\n",
       "      <th>Deathrate</th>\n",
       "      <th>Agriculture</th>\n",
       "      <th>Industry</th>\n",
       "      <th>Service</th>\n",
       "    </tr>\n",
       "  </thead>\n",
       "  <tbody>\n",
       "    <tr>\n",
       "      <th>0</th>\n",
       "      <td>Afghanistan</td>\n",
       "      <td>ASIA (EX. NEAR EAST)</td>\n",
       "      <td>31056997</td>\n",
       "      <td>647500</td>\n",
       "      <td>480</td>\n",
       "      <td>0</td>\n",
       "      <td>2306.0</td>\n",
       "      <td>16307.0</td>\n",
       "      <td>700.0</td>\n",
       "      <td>360.0</td>\n",
       "      <td>32.0</td>\n",
       "      <td>1213.0</td>\n",
       "      <td>22.0</td>\n",
       "      <td>8765.0</td>\n",
       "      <td>1.0</td>\n",
       "      <td>466.0</td>\n",
       "      <td>2034.0</td>\n",
       "      <td>38.0</td>\n",
       "      <td>24.0</td>\n",
       "      <td>38.0</td>\n",
       "    </tr>\n",
       "    <tr>\n",
       "      <th>1</th>\n",
       "      <td>Albania</td>\n",
       "      <td>EASTERN EUROPE</td>\n",
       "      <td>3581655</td>\n",
       "      <td>28748</td>\n",
       "      <td>1246</td>\n",
       "      <td>126</td>\n",
       "      <td>-493.0</td>\n",
       "      <td>2152.0</td>\n",
       "      <td>4500.0</td>\n",
       "      <td>865.0</td>\n",
       "      <td>712.0</td>\n",
       "      <td>2109.0</td>\n",
       "      <td>442.0</td>\n",
       "      <td>7449.0</td>\n",
       "      <td>3.0</td>\n",
       "      <td>1511.0</td>\n",
       "      <td>522.0</td>\n",
       "      <td>232.0</td>\n",
       "      <td>188.0</td>\n",
       "      <td>579.0</td>\n",
       "    </tr>\n",
       "    <tr>\n",
       "      <th>2</th>\n",
       "      <td>Algeria</td>\n",
       "      <td>NORTHERN AFRICA</td>\n",
       "      <td>32930091</td>\n",
       "      <td>2381740</td>\n",
       "      <td>138</td>\n",
       "      <td>4</td>\n",
       "      <td>-39.0</td>\n",
       "      <td>31.0</td>\n",
       "      <td>6000.0</td>\n",
       "      <td>700.0</td>\n",
       "      <td>781.0</td>\n",
       "      <td>322.0</td>\n",
       "      <td>25.0</td>\n",
       "      <td>9653.0</td>\n",
       "      <td>1.0</td>\n",
       "      <td>1714.0</td>\n",
       "      <td>461.0</td>\n",
       "      <td>101.0</td>\n",
       "      <td>6.0</td>\n",
       "      <td>298.0</td>\n",
       "    </tr>\n",
       "  </tbody>\n",
       "</table>\n",
       "</div>"
      ],
      "text/plain": [
       "        Country                               Region  Population  \\\n",
       "0  Afghanistan         ASIA (EX. NEAR EAST)             31056997   \n",
       "1      Albania   EASTERN EUROPE                          3581655   \n",
       "2      Algeria   NORTHERN AFRICA                        32930091   \n",
       "\n",
       "   Area (sq. mi.)  Pop. Density (per sq. mi.)  Coastline (coast/area ratio)  \\\n",
       "0          647500                         480                             0   \n",
       "1           28748                        1246                           126   \n",
       "2         2381740                         138                             4   \n",
       "\n",
       "   Net migration  Infant mortality (per 1000 births)  GDP ($ per capita)  \\\n",
       "0         2306.0                             16307.0               700.0   \n",
       "1         -493.0                              2152.0              4500.0   \n",
       "2          -39.0                                31.0              6000.0   \n",
       "\n",
       "   Literacy (%)  Phones (per 1000)  Arable (%)  Crops (%)  Other (%)  Climate  \\\n",
       "0         360.0               32.0      1213.0       22.0     8765.0      1.0   \n",
       "1         865.0              712.0      2109.0      442.0     7449.0      3.0   \n",
       "2         700.0              781.0       322.0       25.0     9653.0      1.0   \n",
       "\n",
       "   Birthrate  Deathrate  Agriculture  Industry  Service  \n",
       "0      466.0     2034.0         38.0      24.0     38.0  \n",
       "1     1511.0      522.0        232.0     188.0    579.0  \n",
       "2     1714.0      461.0        101.0       6.0    298.0  "
      ]
     },
     "execution_count": 1201,
     "metadata": {},
     "output_type": "execute_result"
    }
   ],
   "source": [
    "# Para visualizar apenas as 3 primeiras linhas\n",
    "country_df.head(3)"
   ]
  },
  {
   "cell_type": "code",
   "execution_count": 1202,
   "metadata": {
    "collapsed": false
   },
   "outputs": [
    {
     "name": "stdout",
     "output_type": "stream",
     "text": [
      "<class 'pandas.core.frame.DataFrame'>\n",
      "RangeIndex: 227 entries, 0 to 226\n",
      "Data columns (total 20 columns):\n",
      "Country                               227 non-null object\n",
      "Region                                227 non-null object\n",
      "Population                            227 non-null int64\n",
      "Area (sq. mi.)                        227 non-null int64\n",
      "Pop. Density (per sq. mi.)            227 non-null int64\n",
      "Coastline (coast/area ratio)          227 non-null int64\n",
      "Net migration                         224 non-null float64\n",
      "Infant mortality (per 1000 births)    224 non-null float64\n",
      "GDP ($ per capita)                    226 non-null float64\n",
      "Literacy (%)                          209 non-null float64\n",
      "Phones (per 1000)                     223 non-null float64\n",
      "Arable (%)                            225 non-null float64\n",
      "Crops (%)                             225 non-null float64\n",
      "Other (%)                             225 non-null float64\n",
      "Climate                               205 non-null float64\n",
      "Birthrate                             224 non-null float64\n",
      "Deathrate                             223 non-null float64\n",
      "Agriculture                           212 non-null float64\n",
      "Industry                              211 non-null float64\n",
      "Service                               212 non-null float64\n",
      "dtypes: float64(14), int64(4), object(2)\n",
      "memory usage: 35.5+ KB\n"
     ]
    }
   ],
   "source": [
    "# Para verificar a quantidade de linhas e os tipos identificados\n",
    "country_df.info()"
   ]
  },
  {
   "cell_type": "markdown",
   "metadata": {},
   "source": [
    "#### Informações que consegui obter - Análise rápida\n",
    "- Percebi que há 227 classes (atributos qualitativos)\n",
    "- Diversos atributos contém NaN - levando em conta a falta deles\n",
    "- O nome dos atributos estão meio poluidos\n",
    "- Os valores das regiões também"
   ]
  },
  {
   "cell_type": "markdown",
   "metadata": {},
   "source": [
    "### 2. Manipulação e limpeza dos dados"
   ]
  },
  {
   "cell_type": "markdown",
   "metadata": {},
   "source": [
    "- Vou começar alterando os nome dos atributos (Se a gente sabe as medidas, elas não precisam ficar expostas) "
   ]
  },
  {
   "cell_type": "markdown",
   "metadata": {},
   "source": [
    "## Atributos\n",
    "* Country - Pais \n",
    "* Region - Região\n",
    "* Population - População \n",
    "* Area (sq. mi.) - Area \n",
    "* Pop. Density (per sq. mi.) Densidade populacional\n",
    "* Coastline (coast/area ratio) - linha da costa? (beira do rio?)\n",
    "* Net migration - migração líquida\n",
    "* Infant mortality (per 1000 births) - Taxa de mortalidade infantil\n",
    "* GDP ( per capita) - nao sei\n",
    "* Literacy (%) - Alfabetizacao\n",
    "* Phones (per 1000) - telefones\n",
    "* Arable (%) - terra fertil\n",
    "* Crops (%) - colheita\n",
    "* Other (%) - Outros \n",
    "* Climate - Clima\n",
    "* Birthrate - taxa de natalidade\n",
    "* Deathrate - taxa de mortalidade\n",
    "* Agriculture - agricultura\n",
    "* Industry - Industrialização\n",
    "* Service - Serviços\n",
    "\n",
    "## Valores de cada região\n",
    "* ASIA (EX. NEAR EAST) - asia \n",
    "* BALTICS - balticos\n",
    "* EASTERN EUROPE - leste_europeu\n",
    "* NEAR EAST - oriente_proximo  \n",
    "* NORTHERN AFRICA - africa_norte\n",
    "* NORTHERN AMERICA - america_norte (https://www.reddit.com/r/EnglishLearning/comments/890lhr/north_america_vs_northern_america/)           \n",
    "* OCEANIA - oceania\n",
    "* SUB-SAHARAN AFRICA - africa_subsariana\n",
    "* WESTERN EUROPE - europa_ocidental\n",
    "* C.W. OF IND. STATES - cis\n",
    "* LATIN AMER. & CARIB - america_latina "
   ]
  },
  {
   "cell_type": "code",
   "execution_count": 1203,
   "metadata": {
    "collapsed": false
   },
   "outputs": [],
   "source": [
    "country_df.columns = ([\"pais\",\n",
    "                  \"regiao\",\n",
    "                  \"populacao\",\n",
    "                  \"area\",\n",
    "                  \"densidade\",\n",
    "                  \"linha_costeira\",\n",
    "                  \"migracao\",\n",
    "                  \"mortalidade_infantil\",\n",
    "                  \"gdp\",\n",
    "                  \"alfabetizacao\",\n",
    "                  \"telefone\",\n",
    "                  \"terra_fertil\",\n",
    "                  \"colheita\",\n",
    "                  \"outros\",\n",
    "                  \"clima\",\n",
    "                  \"taxa_natalidade\",\n",
    "                  \"taxa_mortalidade\",\n",
    "                  \"agricultura\",\n",
    "                  \"industria\",\n",
    "                  \"servicos\"])"
   ]
  },
  {
   "cell_type": "code",
   "execution_count": 1204,
   "metadata": {
    "collapsed": false
   },
   "outputs": [
    {
     "data": {
      "text/plain": [
       "Index(['pais', 'regiao', 'populacao', 'area', 'densidade', 'linha_costeira',\n",
       "       'migracao', 'mortalidade_infantil', 'gdp', 'alfabetizacao', 'telefone',\n",
       "       'terra_fertil', 'colheita', 'outros', 'clima', 'taxa_natalidade',\n",
       "       'taxa_mortalidade', 'agricultura', 'industria', 'servicos'],\n",
       "      dtype='object')"
      ]
     },
     "execution_count": 1204,
     "metadata": {},
     "output_type": "execute_result"
    }
   ],
   "source": [
    "country_df.columns"
   ]
  },
  {
   "cell_type": "code",
   "execution_count": 1205,
   "metadata": {
    "collapsed": false
   },
   "outputs": [
    {
     "data": {
      "text/plain": [
       "array(['ASIA (EX. NEAR EAST)         ',\n",
       "       'BALTICS                            ', 'C.W. OF IND. STATES ',\n",
       "       'EASTERN EUROPE                     ', 'LATIN AMER. & CARIB    ',\n",
       "       'NEAR EAST                          ',\n",
       "       'NORTHERN AFRICA                    ',\n",
       "       'NORTHERN AMERICA                   ',\n",
       "       'OCEANIA                            ',\n",
       "       'SUB-SAHARAN AFRICA                 ',\n",
       "       'WESTERN EUROPE                     '], dtype=object)"
      ]
     },
     "execution_count": 1205,
     "metadata": {},
     "output_type": "execute_result"
    }
   ],
   "source": [
    "np.unique(country_df['regiao'])"
   ]
  },
  {
   "cell_type": "code",
   "execution_count": 1206,
   "metadata": {
    "collapsed": false
   },
   "outputs": [
    {
     "data": {
      "text/html": [
       "<div>\n",
       "<style scoped>\n",
       "    .dataframe tbody tr th:only-of-type {\n",
       "        vertical-align: middle;\n",
       "    }\n",
       "\n",
       "    .dataframe tbody tr th {\n",
       "        vertical-align: top;\n",
       "    }\n",
       "\n",
       "    .dataframe thead th {\n",
       "        text-align: right;\n",
       "    }\n",
       "</style>\n",
       "<table border=\"1\" class=\"dataframe\">\n",
       "  <thead>\n",
       "    <tr style=\"text-align: right;\">\n",
       "      <th></th>\n",
       "      <th>pais</th>\n",
       "      <th>regiao</th>\n",
       "      <th>populacao</th>\n",
       "      <th>area</th>\n",
       "      <th>densidade</th>\n",
       "      <th>linha_costeira</th>\n",
       "      <th>migracao</th>\n",
       "      <th>mortalidade_infantil</th>\n",
       "      <th>gdp</th>\n",
       "      <th>alfabetizacao</th>\n",
       "      <th>telefone</th>\n",
       "      <th>terra_fertil</th>\n",
       "      <th>colheita</th>\n",
       "      <th>outros</th>\n",
       "      <th>clima</th>\n",
       "      <th>taxa_natalidade</th>\n",
       "      <th>taxa_mortalidade</th>\n",
       "      <th>agricultura</th>\n",
       "      <th>industria</th>\n",
       "      <th>servicos</th>\n",
       "    </tr>\n",
       "  </thead>\n",
       "  <tbody>\n",
       "    <tr>\n",
       "      <th>0</th>\n",
       "      <td>Afghanistan</td>\n",
       "      <td>asia</td>\n",
       "      <td>31056997</td>\n",
       "      <td>647500</td>\n",
       "      <td>480</td>\n",
       "      <td>0</td>\n",
       "      <td>2306.0</td>\n",
       "      <td>16307.0</td>\n",
       "      <td>700.0</td>\n",
       "      <td>360.0</td>\n",
       "      <td>32.0</td>\n",
       "      <td>1213.0</td>\n",
       "      <td>22.0</td>\n",
       "      <td>8765.0</td>\n",
       "      <td>1.0</td>\n",
       "      <td>466.0</td>\n",
       "      <td>2034.0</td>\n",
       "      <td>38.0</td>\n",
       "      <td>24.0</td>\n",
       "      <td>38.0</td>\n",
       "    </tr>\n",
       "    <tr>\n",
       "      <th>1</th>\n",
       "      <td>Albania</td>\n",
       "      <td>leste_europeu</td>\n",
       "      <td>3581655</td>\n",
       "      <td>28748</td>\n",
       "      <td>1246</td>\n",
       "      <td>126</td>\n",
       "      <td>-493.0</td>\n",
       "      <td>2152.0</td>\n",
       "      <td>4500.0</td>\n",
       "      <td>865.0</td>\n",
       "      <td>712.0</td>\n",
       "      <td>2109.0</td>\n",
       "      <td>442.0</td>\n",
       "      <td>7449.0</td>\n",
       "      <td>3.0</td>\n",
       "      <td>1511.0</td>\n",
       "      <td>522.0</td>\n",
       "      <td>232.0</td>\n",
       "      <td>188.0</td>\n",
       "      <td>579.0</td>\n",
       "    </tr>\n",
       "    <tr>\n",
       "      <th>2</th>\n",
       "      <td>Algeria</td>\n",
       "      <td>africa_norte</td>\n",
       "      <td>32930091</td>\n",
       "      <td>2381740</td>\n",
       "      <td>138</td>\n",
       "      <td>4</td>\n",
       "      <td>-39.0</td>\n",
       "      <td>31.0</td>\n",
       "      <td>6000.0</td>\n",
       "      <td>700.0</td>\n",
       "      <td>781.0</td>\n",
       "      <td>322.0</td>\n",
       "      <td>25.0</td>\n",
       "      <td>9653.0</td>\n",
       "      <td>1.0</td>\n",
       "      <td>1714.0</td>\n",
       "      <td>461.0</td>\n",
       "      <td>101.0</td>\n",
       "      <td>6.0</td>\n",
       "      <td>298.0</td>\n",
       "    </tr>\n",
       "    <tr>\n",
       "      <th>3</th>\n",
       "      <td>American Samoa</td>\n",
       "      <td>oceania</td>\n",
       "      <td>57794</td>\n",
       "      <td>199</td>\n",
       "      <td>2904</td>\n",
       "      <td>5829</td>\n",
       "      <td>-2071.0</td>\n",
       "      <td>927.0</td>\n",
       "      <td>8000.0</td>\n",
       "      <td>970.0</td>\n",
       "      <td>2595.0</td>\n",
       "      <td>10.0</td>\n",
       "      <td>15.0</td>\n",
       "      <td>75.0</td>\n",
       "      <td>2.0</td>\n",
       "      <td>2246.0</td>\n",
       "      <td>327.0</td>\n",
       "      <td>NaN</td>\n",
       "      <td>NaN</td>\n",
       "      <td>NaN</td>\n",
       "    </tr>\n",
       "    <tr>\n",
       "      <th>4</th>\n",
       "      <td>Andorra</td>\n",
       "      <td>europa_ocidental</td>\n",
       "      <td>71201</td>\n",
       "      <td>468</td>\n",
       "      <td>1521</td>\n",
       "      <td>0</td>\n",
       "      <td>66.0</td>\n",
       "      <td>405.0</td>\n",
       "      <td>19000.0</td>\n",
       "      <td>1000.0</td>\n",
       "      <td>4972.0</td>\n",
       "      <td>222.0</td>\n",
       "      <td>0.0</td>\n",
       "      <td>9778.0</td>\n",
       "      <td>3.0</td>\n",
       "      <td>871.0</td>\n",
       "      <td>625.0</td>\n",
       "      <td>NaN</td>\n",
       "      <td>NaN</td>\n",
       "      <td>NaN</td>\n",
       "    </tr>\n",
       "  </tbody>\n",
       "</table>\n",
       "</div>"
      ],
      "text/plain": [
       "              pais            regiao  populacao     area  densidade  \\\n",
       "0     Afghanistan               asia   31056997   647500        480   \n",
       "1         Albania      leste_europeu    3581655    28748       1246   \n",
       "2         Algeria       africa_norte   32930091  2381740        138   \n",
       "3  American Samoa            oceania      57794      199       2904   \n",
       "4         Andorra   europa_ocidental      71201      468       1521   \n",
       "\n",
       "   linha_costeira  migracao  mortalidade_infantil      gdp  alfabetizacao  \\\n",
       "0               0    2306.0               16307.0    700.0          360.0   \n",
       "1             126    -493.0                2152.0   4500.0          865.0   \n",
       "2               4     -39.0                  31.0   6000.0          700.0   \n",
       "3            5829   -2071.0                 927.0   8000.0          970.0   \n",
       "4               0      66.0                 405.0  19000.0         1000.0   \n",
       "\n",
       "   telefone  terra_fertil  colheita  outros  clima  taxa_natalidade  \\\n",
       "0      32.0        1213.0      22.0  8765.0    1.0            466.0   \n",
       "1     712.0        2109.0     442.0  7449.0    3.0           1511.0   \n",
       "2     781.0         322.0      25.0  9653.0    1.0           1714.0   \n",
       "3    2595.0          10.0      15.0    75.0    2.0           2246.0   \n",
       "4    4972.0         222.0       0.0  9778.0    3.0            871.0   \n",
       "\n",
       "   taxa_mortalidade  agricultura  industria  servicos  \n",
       "0            2034.0         38.0       24.0      38.0  \n",
       "1             522.0        232.0      188.0     579.0  \n",
       "2             461.0        101.0        6.0     298.0  \n",
       "3             327.0          NaN        NaN       NaN  \n",
       "4             625.0          NaN        NaN       NaN  "
      ]
     },
     "execution_count": 1206,
     "metadata": {},
     "output_type": "execute_result"
    }
   ],
   "source": [
    "country_df['regiao'] = country_df['regiao'].astype('category')\n",
    "valores_novos = {\"regiao\":{\"ASIA (EX. NEAR EAST)         \":\"asia\",\n",
    "                           \"BALTICS                            \":\"balticos\",\n",
    "                           \"EASTERN EUROPE                     \":\"leste_europeu\",\n",
    "                           \"NEAR EAST                          \":\"oriente_proximo\",\n",
    "                           \"NORTHERN AFRICA                    \":\"africa_norte\",\n",
    "                           \"NORTHERN AMERICA                   \":\"america_norte\",\n",
    "                           \"OCEANIA                            \":\"oceania\",\n",
    "                           \"SUB-SAHARAN AFRICA                 \":\"africa_subsariana\",\n",
    "                           \"WESTERN EUROPE                     \":\"europa_ocidental\",\n",
    "                           \"C.W. OF IND. STATES \":\"cis\",\n",
    "                           \"LATIN AMER. & CARIB    \":\"america_latina\"}}\n",
    "country_df.replace(valores_novos, inplace=True)\n",
    "country_df.head(5)\n"
   ]
  },
  {
   "cell_type": "markdown",
   "metadata": {},
   "source": [
    "- Vou deletar a atributo qualitativo (classe) 'pais', lá vai a explicação:\n",
    "O atributo pais contém valores únicos, logo, não faz sentido dividir minha árvore com base nele, porque o critério de médida de erro de uma árvore é probabilistico, então para todo meu espaço amostral vou ter um único evento.\n",
    "\n",
    "\n",
    "Penso que para o atributo 'Region' tenha uma generalização melhor, contendo valores que se repetem, ainda não pesquisei a fundo, mas será possível uma classificação usando árvores de decisão com classes unitárias? "
   ]
  },
  {
   "cell_type": "code",
   "execution_count": 1207,
   "metadata": {
    "collapsed": false
   },
   "outputs": [],
   "source": [
    "# Para deletar algum atributo\n",
    "country_df.drop(['pais'], axis=1, inplace=True)"
   ]
  },
  {
   "cell_type": "code",
   "execution_count": 1208,
   "metadata": {
    "collapsed": false
   },
   "outputs": [],
   "source": [
    "# Esse método transforma NaN em media dos DF - percebi que a classificação melhora usando a média\n",
    "country_df = country_df.fillna(country_df.mean())"
   ]
  },
  {
   "cell_type": "markdown",
   "metadata": {},
   "source": [
    "### 3. Preparação dos dados para a classificação"
   ]
  },
  {
   "cell_type": "code",
   "execution_count": 1209,
   "metadata": {
    "collapsed": false
   },
   "outputs": [],
   "source": [
    "# Escolhendo apenas atributos quantitativos\n",
    "X_country = country_df.drop(['regiao', 'outros'],axis=1)\n",
    "# Escolhendo minha classe\n",
    "y_country = (country_df['regiao'])"
   ]
  },
  {
   "cell_type": "code",
   "execution_count": 1210,
   "metadata": {
    "collapsed": true
   },
   "outputs": [],
   "source": [
    "# Divisão do conjunto de dados - 70% treino e 30% teste\n",
    "X_train, X_test, y_train, y_test = train_test_split(X_country, y_country, test_size=0.30)"
   ]
  },
  {
   "cell_type": "markdown",
   "metadata": {},
   "source": [
    "### 4. Classificação utilizando árvores de decisão"
   ]
  },
  {
   "cell_type": "code",
   "execution_count": 1211,
   "metadata": {
    "collapsed": false
   },
   "outputs": [],
   "source": [
    "# Criação de um objeto da árvore (brinque com os parâmetros)\n",
    "arvore_decisao = DecisionTreeClassifier(criterion='entropy', \n",
    "                                          splitter='best', \n",
    "                                          max_depth=2, \n",
    "                                          min_samples_split=5, \n",
    "                                          min_samples_leaf=3, \n",
    "                                          min_weight_fraction_leaf=0.0, \n",
    "                                          max_features=4, \n",
    "                                          random_state=None, \n",
    "                                          max_leaf_nodes=4, \n",
    "                                          min_impurity_decrease=0.0, \n",
    "                                          min_impurity_split=None, \n",
    "                                          class_weight=None, \n",
    "                                          presort=False)"
   ]
  },
  {
   "cell_type": "code",
   "execution_count": 1212,
   "metadata": {
    "collapsed": false
   },
   "outputs": [
    {
     "data": {
      "text/plain": [
       "DecisionTreeClassifier(class_weight=None, criterion='entropy', max_depth=2,\n",
       "            max_features=4, max_leaf_nodes=4, min_impurity_decrease=0.0,\n",
       "            min_impurity_split=None, min_samples_leaf=3,\n",
       "            min_samples_split=5, min_weight_fraction_leaf=0.0,\n",
       "            presort=False, random_state=None, splitter='best')"
      ]
     },
     "execution_count": 1212,
     "metadata": {},
     "output_type": "execute_result"
    }
   ],
   "source": [
    "# Vamos treinar nossa árvore com os nossos conjuntos de treino \n",
    "arvore_decisao.fit(X_train,y_train)"
   ]
  },
  {
   "cell_type": "code",
   "execution_count": 1213,
   "metadata": {
    "collapsed": false
   },
   "outputs": [],
   "source": [
    "# Vamos criar a predicao para o nosso valor de teste\n",
    "predicao = arvore_decisao.predict(X_test)"
   ]
  },
  {
   "cell_type": "code",
   "execution_count": 1214,
   "metadata": {
    "collapsed": false
   },
   "outputs": [
    {
     "data": {
      "text/plain": [
       "44.927536231884055"
      ]
     },
     "execution_count": 1214,
     "metadata": {},
     "output_type": "execute_result"
    }
   ],
   "source": [
    "# Utilizando o accuracy_score pois é uma classificação multilabel\n",
    "from sklearn.metrics import accuracy_score\n",
    "accuracy_score(y_test,predicao)*100"
   ]
  },
  {
   "cell_type": "code",
   "execution_count": 1215,
   "metadata": {
    "collapsed": false
   },
   "outputs": [
    {
     "name": "stdout",
     "output_type": "stream",
     "text": [
      "                   precision    recall  f1-score   support\n",
      "\n",
      "     africa_norte       0.00      0.00      0.00         1\n",
      "africa_subsariana       0.53      0.85      0.65        20\n",
      "   america_latina       0.55      0.33      0.41        18\n",
      "    america_norte       0.00      0.00      0.00         1\n",
      "             asia       0.00      0.00      0.00         6\n",
      "         balticos       0.00      0.00      0.00         1\n",
      "              cis       0.19      1.00      0.32         3\n",
      " europa_ocidental       0.50      0.71      0.59         7\n",
      "    leste_europeu       0.00      0.00      0.00         4\n",
      "          oceania       0.00      0.00      0.00         5\n",
      "  oriente_proximo       0.00      0.00      0.00         3\n",
      "\n",
      "      avg / total       0.36      0.45      0.37        69\n",
      "\n"
     ]
    },
    {
     "name": "stderr",
     "output_type": "stream",
     "text": [
      "/usr/local/lib/python3.5/dist-packages/sklearn/metrics/classification.py:1135: UndefinedMetricWarning: Precision and F-score are ill-defined and being set to 0.0 in labels with no predicted samples.\n",
      "  'precision', 'predicted', average, warn_for)\n"
     ]
    }
   ],
   "source": [
    "# Report da classificação de alguns métodos\n",
    "print(classification_report(y_test,predicao))"
   ]
  },
  {
   "cell_type": "markdown",
   "metadata": {},
   "source": [
    "- Matriz de confusão"
   ]
  },
  {
   "cell_type": "code",
   "execution_count": 1216,
   "metadata": {
    "collapsed": false
   },
   "outputs": [
    {
     "data": {
      "text/html": [
       "<div>\n",
       "<style scoped>\n",
       "    .dataframe tbody tr th:only-of-type {\n",
       "        vertical-align: middle;\n",
       "    }\n",
       "\n",
       "    .dataframe tbody tr th {\n",
       "        vertical-align: top;\n",
       "    }\n",
       "\n",
       "    .dataframe thead th {\n",
       "        text-align: right;\n",
       "    }\n",
       "</style>\n",
       "<table border=\"1\" class=\"dataframe\">\n",
       "  <thead>\n",
       "    <tr style=\"text-align: right;\">\n",
       "      <th></th>\n",
       "      <th>asia errado</th>\n",
       "      <th>balticos errado</th>\n",
       "      <th>leste_europeu errado</th>\n",
       "      <th>oriente_proximo errado</th>\n",
       "      <th>africa_norte errado</th>\n",
       "      <th>america_norte errado</th>\n",
       "      <th>oceania errado</th>\n",
       "      <th>africa_subsariana errado</th>\n",
       "      <th>europa_ocidental errado</th>\n",
       "      <th>cis errado</th>\n",
       "      <th>america_latina errado</th>\n",
       "    </tr>\n",
       "  </thead>\n",
       "  <tbody>\n",
       "    <tr>\n",
       "      <th>asia</th>\n",
       "      <td>0</td>\n",
       "      <td>1</td>\n",
       "      <td>0</td>\n",
       "      <td>0</td>\n",
       "      <td>0</td>\n",
       "      <td>0</td>\n",
       "      <td>0</td>\n",
       "      <td>0</td>\n",
       "      <td>0</td>\n",
       "      <td>0</td>\n",
       "      <td>0</td>\n",
       "    </tr>\n",
       "    <tr>\n",
       "      <th>balticos</th>\n",
       "      <td>0</td>\n",
       "      <td>17</td>\n",
       "      <td>2</td>\n",
       "      <td>0</td>\n",
       "      <td>0</td>\n",
       "      <td>0</td>\n",
       "      <td>1</td>\n",
       "      <td>0</td>\n",
       "      <td>0</td>\n",
       "      <td>0</td>\n",
       "      <td>0</td>\n",
       "    </tr>\n",
       "    <tr>\n",
       "      <th>leste_europeu</th>\n",
       "      <td>0</td>\n",
       "      <td>5</td>\n",
       "      <td>6</td>\n",
       "      <td>0</td>\n",
       "      <td>0</td>\n",
       "      <td>0</td>\n",
       "      <td>6</td>\n",
       "      <td>1</td>\n",
       "      <td>0</td>\n",
       "      <td>0</td>\n",
       "      <td>0</td>\n",
       "    </tr>\n",
       "    <tr>\n",
       "      <th>oriente_proximo</th>\n",
       "      <td>0</td>\n",
       "      <td>0</td>\n",
       "      <td>0</td>\n",
       "      <td>0</td>\n",
       "      <td>0</td>\n",
       "      <td>0</td>\n",
       "      <td>0</td>\n",
       "      <td>1</td>\n",
       "      <td>0</td>\n",
       "      <td>0</td>\n",
       "      <td>0</td>\n",
       "    </tr>\n",
       "    <tr>\n",
       "      <th>africa_norte</th>\n",
       "      <td>0</td>\n",
       "      <td>0</td>\n",
       "      <td>1</td>\n",
       "      <td>0</td>\n",
       "      <td>0</td>\n",
       "      <td>0</td>\n",
       "      <td>3</td>\n",
       "      <td>2</td>\n",
       "      <td>0</td>\n",
       "      <td>0</td>\n",
       "      <td>0</td>\n",
       "    </tr>\n",
       "    <tr>\n",
       "      <th>america_norte</th>\n",
       "      <td>0</td>\n",
       "      <td>0</td>\n",
       "      <td>0</td>\n",
       "      <td>0</td>\n",
       "      <td>0</td>\n",
       "      <td>0</td>\n",
       "      <td>1</td>\n",
       "      <td>0</td>\n",
       "      <td>0</td>\n",
       "      <td>0</td>\n",
       "      <td>0</td>\n",
       "    </tr>\n",
       "    <tr>\n",
       "      <th>oceania</th>\n",
       "      <td>0</td>\n",
       "      <td>0</td>\n",
       "      <td>0</td>\n",
       "      <td>0</td>\n",
       "      <td>0</td>\n",
       "      <td>0</td>\n",
       "      <td>3</td>\n",
       "      <td>0</td>\n",
       "      <td>0</td>\n",
       "      <td>0</td>\n",
       "      <td>0</td>\n",
       "    </tr>\n",
       "    <tr>\n",
       "      <th>africa_subsariana</th>\n",
       "      <td>0</td>\n",
       "      <td>2</td>\n",
       "      <td>0</td>\n",
       "      <td>0</td>\n",
       "      <td>0</td>\n",
       "      <td>0</td>\n",
       "      <td>0</td>\n",
       "      <td>5</td>\n",
       "      <td>0</td>\n",
       "      <td>0</td>\n",
       "      <td>0</td>\n",
       "    </tr>\n",
       "    <tr>\n",
       "      <th>europa_ocidental</th>\n",
       "      <td>0</td>\n",
       "      <td>2</td>\n",
       "      <td>0</td>\n",
       "      <td>0</td>\n",
       "      <td>0</td>\n",
       "      <td>0</td>\n",
       "      <td>2</td>\n",
       "      <td>0</td>\n",
       "      <td>0</td>\n",
       "      <td>0</td>\n",
       "      <td>0</td>\n",
       "    </tr>\n",
       "    <tr>\n",
       "      <th>cis</th>\n",
       "      <td>0</td>\n",
       "      <td>3</td>\n",
       "      <td>2</td>\n",
       "      <td>0</td>\n",
       "      <td>0</td>\n",
       "      <td>0</td>\n",
       "      <td>0</td>\n",
       "      <td>0</td>\n",
       "      <td>0</td>\n",
       "      <td>0</td>\n",
       "      <td>0</td>\n",
       "    </tr>\n",
       "    <tr>\n",
       "      <th>america_latina</th>\n",
       "      <td>0</td>\n",
       "      <td>2</td>\n",
       "      <td>0</td>\n",
       "      <td>0</td>\n",
       "      <td>0</td>\n",
       "      <td>0</td>\n",
       "      <td>0</td>\n",
       "      <td>1</td>\n",
       "      <td>0</td>\n",
       "      <td>0</td>\n",
       "      <td>0</td>\n",
       "    </tr>\n",
       "  </tbody>\n",
       "</table>\n",
       "</div>"
      ],
      "text/plain": [
       "                   asia errado  balticos errado  leste_europeu errado  \\\n",
       "asia                         0                1                     0   \n",
       "balticos                     0               17                     2   \n",
       "leste_europeu                0                5                     6   \n",
       "oriente_proximo              0                0                     0   \n",
       "africa_norte                 0                0                     1   \n",
       "america_norte                0                0                     0   \n",
       "oceania                      0                0                     0   \n",
       "africa_subsariana            0                2                     0   \n",
       "europa_ocidental             0                2                     0   \n",
       "cis                          0                3                     2   \n",
       "america_latina               0                2                     0   \n",
       "\n",
       "                   oriente_proximo errado  africa_norte errado  \\\n",
       "asia                                    0                    0   \n",
       "balticos                                0                    0   \n",
       "leste_europeu                           0                    0   \n",
       "oriente_proximo                         0                    0   \n",
       "africa_norte                            0                    0   \n",
       "america_norte                           0                    0   \n",
       "oceania                                 0                    0   \n",
       "africa_subsariana                       0                    0   \n",
       "europa_ocidental                        0                    0   \n",
       "cis                                     0                    0   \n",
       "america_latina                          0                    0   \n",
       "\n",
       "                   america_norte errado  oceania errado  \\\n",
       "asia                                  0               0   \n",
       "balticos                              0               1   \n",
       "leste_europeu                         0               6   \n",
       "oriente_proximo                       0               0   \n",
       "africa_norte                          0               3   \n",
       "america_norte                         0               1   \n",
       "oceania                               0               3   \n",
       "africa_subsariana                     0               0   \n",
       "europa_ocidental                      0               2   \n",
       "cis                                   0               0   \n",
       "america_latina                        0               0   \n",
       "\n",
       "                   africa_subsariana errado  europa_ocidental errado  \\\n",
       "asia                                      0                        0   \n",
       "balticos                                  0                        0   \n",
       "leste_europeu                             1                        0   \n",
       "oriente_proximo                           1                        0   \n",
       "africa_norte                              2                        0   \n",
       "america_norte                             0                        0   \n",
       "oceania                                   0                        0   \n",
       "africa_subsariana                         5                        0   \n",
       "europa_ocidental                          0                        0   \n",
       "cis                                       0                        0   \n",
       "america_latina                            1                        0   \n",
       "\n",
       "                   cis errado  america_latina errado  \n",
       "asia                        0                      0  \n",
       "balticos                    0                      0  \n",
       "leste_europeu               0                      0  \n",
       "oriente_proximo             0                      0  \n",
       "africa_norte                0                      0  \n",
       "america_norte               0                      0  \n",
       "oceania                     0                      0  \n",
       "africa_subsariana           0                      0  \n",
       "europa_ocidental            0                      0  \n",
       "cis                         0                      0  \n",
       "america_latina              0                      0  "
      ]
     },
     "execution_count": 1216,
     "metadata": {},
     "output_type": "execute_result"
    }
   ],
   "source": [
    "from sklearn.metrics import confusion_matrix\n",
    "\n",
    "pd.DataFrame(\n",
    "    confusion_matrix(y_test, predicao),\n",
    "    columns=['asia errado', \n",
    "             'balticos errado',\n",
    "             'leste_europeu errado',\n",
    "            'oriente_proximo errado',\n",
    "            'africa_norte errado',\n",
    "            'america_norte errado',\n",
    "            'oceania errado',\n",
    "            'africa_subsariana errado',\n",
    "            'europa_ocidental errado',\n",
    "            'cis errado',\n",
    "            'america_latina errado'\n",
    "            ],\n",
    "    index=['asia', \n",
    "            'balticos',\n",
    "            'leste_europeu',\n",
    "            'oriente_proximo',\n",
    "            'africa_norte',\n",
    "            'america_norte',\n",
    "            'oceania',\n",
    "            'africa_subsariana',\n",
    "            'europa_ocidental',\n",
    "            'cis',\n",
    "            'america_latina']\n",
    ")\n"
   ]
  },
  {
   "cell_type": "code",
   "execution_count": 1217,
   "metadata": {
    "collapsed": true
   },
   "outputs": [],
   "source": [
    " def mostra_grafo(arvore, lista):\n",
    "    dot_data = StringIO()  \n",
    "    export_graphviz(arvore, out_file=dot_data,feature_names=lista,filled=True,rounded=True)\n",
    "\n",
    "    graph = pydot.graph_from_dot_data(dot_data.getvalue())  \n",
    "    return(Image(graph[0].create_png()))"
   ]
  },
  {
   "cell_type": "code",
   "execution_count": 1218,
   "metadata": {
    "collapsed": false
   },
   "outputs": [
    {
     "data": {
      "image/png": "[encoded data removed]",
      "text/plain": [
       "<IPython.core.display.Image object>"
      ]
     },
     "execution_count": 1218,
     "metadata": {},
     "output_type": "execute_result"
    }
   ],
   "source": [
    "from IPython.display import Image  \n",
    "from sklearn.externals.six import StringIO  \n",
    "from sklearn.tree import export_graphviz\n",
    "import pydot \n",
    "\n",
    "lista_regiao = list(country_df.columns[1:])\n",
    "lista_regiao.pop(11)\n",
    "mostra_grafo(arvore_decisao, lista_regiao)"
   ]
  }
 ],
 "metadata": {
  "kernelspec": {
   "display_name": "Python 3",
   "language": "python",
   "name": "python3"
  },
  "language_info": {
   "codemirror_mode": {
    "name": "ipython",
    "version": 3
   },
   "file_extension": ".py",
   "mimetype": "text/x-python",
   "name": "python",
   "nbconvert_exporter": "python",
   "pygments_lexer": "ipython3",
   "version": "3.5.3"
  }
 },
 "nbformat": 4,
 "nbformat_minor": 2
}
